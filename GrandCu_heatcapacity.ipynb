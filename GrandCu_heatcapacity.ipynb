{
 "cells": [
  {
   "cell_type": "code",
   "execution_count": 195,
   "id": "e9d2fb96-2698-4a7f-b1d9-0d9e50d1034b",
   "metadata": {},
   "outputs": [],
   "source": [
    "import numpy as np\n",
    "import matplotlib.pyplot as plt\n",
    "T = np.r_[300:20000:5]\n",
    "C_heat_capacity = 0.54212 - 2.42667/(10**6)*T - 90.2725/T - 43449.3/(T**2)+ 1.59309*10**7/(T**3) - 1.43688*(10**9)/(T**4) #[cal/g K]\n",
    "Cel_heat_capacity =  0.54212 - 2*2.42667/(10**6)*T - 90.2725/T - 43449.3/(T**2)+ 1.59309*10**7/(T**3) - 1.43688*(10**9)/(T**4)  # 3600*T/T #[J/m3/K] 1.202*T**2    #[cal/g K] \n",
    "Cph_heat_capacity = 0.54212 - 2*2.42667/(10**6)*T - 90.2725/T - 43449.3/(T**2)+ 1.59309*10**7/(T**3) - 1.43688*(10**9)/(T**4) #[cal/g K]\n",
    "\n",
    "C_heat_capacity =C_heat_capacity *4184\n",
    "#Cel_heat_capacity =Cel_heat_capacity*0.01*0.01*0.01*1000/2.25 #[J/kg K]\n",
    "Cel_heat_capacity =Cel_heat_capacity *4184 #[J/kg K]\n",
    "Cph_heat_capacity =Cph_heat_capacity *4184\n",
    "Cel_heat_capacity =Cel_heat_capacity *0.008*T/300\n",
    "Cph_heat_capacity =Cph_heat_capacity - Cel_heat_capacity \n",
    "#706.9 [J K]\n",
    "#2253 -0.038*T+6.694*10000000/(T**3) #[J/kg K] #4.912e-4*T**2 +2.199e7*T**3\n",
    "#Cp = 0.538657 + 9.11129x10-6T - 90.2725T-1 - 43449.3T-2 + 1.59309x107T3 - 1.43688x109T-4 cal/g*K (250 to 3000 K) \n",
    "Cu_heat_capacity = (17.72891)+ 28.09870*(T/1000) +(-31.25289)*((T/1000)**2) + 13.97243*((T/1000)**3)+ 0.068611/((T/1000)**2) #[J/mol K]\n",
    "Cu_heat_capacity =Cu_heat_capacity*1000/63.5  # [J/kg K]\n",
    "Cuel_heat_capacity =T*0.077\n"
   ]
  },
  {
   "cell_type": "code",
   "execution_count": 196,
   "id": "b0b964f8-cc4f-40a9-89f4-0eafa6653653",
   "metadata": {},
   "outputs": [
    {
     "data": {
      "image/png": "[encoded data removed]",
      "text/plain": [
       "<Figure size 432x288 with 1 Axes>"
      ]
     },
     "metadata": {
      "needs_background": "light"
     },
     "output_type": "display_data"
    }
   ],
   "source": [
    "plt.figure()\n",
    "#plt.plot(T, C_heat_capacity, label='carbon')\n",
    "#plt.plot(T, 8e18*(T/2000)**4, label='carbon_el')\n",
    "plt.plot(T, Cel_heat_capacity, label='carbon_el')\n",
    "plt.plot(T, Cph_heat_capacity, label='carbon_ph')\n",
    "#plt.plot(T, Cu_heat_capacity-Cuel_heat_capacity, label='copper')\n",
    "#plt.plot(T, Cuel_heat_capacity, label='copper_el')\n",
    "plt.xlim(0,2000)\n",
    "plt.legend()\n",
    "plt.show()"
   ]
  },
  {
   "cell_type": "markdown",
   "id": "ac66a592-0336-468e-b843-3e517bba543b",
   "metadata": {},
   "source": [
    "If the same amount of energy is deposited (number of hot carrier is uniformly distributed), T_carbon < T_copper , T_copper < T_carbon at high T.\n"
   ]
  },
  {
   "cell_type": "code",
   "execution_count": 184,
   "id": "954d29f6-9290-4274-b2fa-88d2162656dc",
   "metadata": {},
   "outputs": [
    {
     "name": "stdout",
     "output_type": "stream",
     "text": [
      "[ 709.71688022  723.99221476  738.29296938 ... 1843.06115382 1842.96457054\n",
      " 1842.86798474]\n"
     ]
    }
   ],
   "source": [
    "print(Cph_heat_capacity)"
   ]
  },
  {
   "cell_type": "code",
   "execution_count": null,
   "id": "3ebf647d-0c3a-4c97-9e55-1480d6113536",
   "metadata": {},
   "outputs": [],
   "source": []
  },
  {
   "cell_type": "code",
   "execution_count": null,
   "id": "bde14e0a-12ed-4d6e-83c5-f62c19c07088",
   "metadata": {},
   "outputs": [],
   "source": []
  }
 ],
 "metadata": {
  "kernelspec": {
   "display_name": "Python 3",
   "language": "python",
   "name": "python3"
  },
  "language_info": {
   "codemirror_mode": {
    "name": "ipython",
    "version": 3
   },
   "file_extension": ".py",
   "mimetype": "text/x-python",
   "name": "python",
   "nbconvert_exporter": "python",
   "pygments_lexer": "ipython3",
   "version": "3.7.5"
  }
 },
 "nbformat": 4,
 "nbformat_minor": 5
}
